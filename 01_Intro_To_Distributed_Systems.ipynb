{
 "cells": [
  {
   "cell_type": "markdown",
   "metadata": {
    "slideshow": {
     "slide_type": "slide"
    }
   },
   "source": [
    "#  Introduction\n",
    "\n",
    "To understand how Blockchain works, we must first discuss how distributed systems work.\n",
    "\n",
    "The goal of this notebook is to explain the building blocks for any distributed system, and specifically a peer-to-peer system. P2P environment is a network where peers are connected, exchange information and run applications on top of it.\n",
    "\n",
    "The goals are as follows:\n",
    "- We will build a system block by block.\n",
    "- Distributed systems are hard as there are many random errors: race conditions, nasty bugs, deadlocks.\n",
    "- We will simplify the world to get to the juiciest parts without leaving out the essentials.  \n",
    "\n",
    "\n",
    "We will simulate the P2P environment locally to get an idea of how such systems would work and understand the design decision that developers make.\n",
    "\n",
    "To show the different tradeoffs and why developers and researchers choose specific designs, we need a way to simulate such an environment. Here we will simulate the network and message exchange via a  discrete event simulator: [SimPy](simpy.readthedocs.io/en/latest/).\n",
    "\n",
    "For the simplicity of use, you can use wrapper for SimPY implement a P2P network simulation: `p2psimpy`. \n",
    "\n",
    "\n",
    "# Simulation of P2P environments\n",
    "\n",
    "We start the notebook by introducing the backbone for such a simulation: `BaseSimulation`.\n",
    "This class represents the network of peers with their physical representations in the world, such as physical `location`, [`bandwidth`](https://en.wikipedia.org/wiki/Bandwidth_(computing)). \n",
    "\n",
    "These properties both define and restrict the capabilities of how fast you can transfer messages and how message travel through the network (which peers see the message, which channels are used).\n",
    "\n",
    "\n",
    "`BaseSimulation` consists of 3 main parameters: \n",
    " - *Locations*\n",
    " - *Network Topology* \n",
    " - *Services and Message Processors* \n",
    "\n",
    "We will explain them one by one. \n",
    "\n"
   ]
  },
  {
   "cell_type": "markdown",
   "metadata": {},
   "source": [
    "\n",
    "### Simulating latencies between locations\n",
    "\n",
    "The simulator simulates connection delays (`latency`) between the nodes in the physical space (`location`).\n",
    "This is a very rough representation of reality but is sufficient for us. You can read more about jitter and latency [here](https://www.tpx.com/blog/latency-jitter-and-packet-loss/) or [here](https://www.youtube.com/watch?v=WdbJdUh6W08).   \n",
    "\n",
    "\n",
    "\n",
    "Locations are defined as a `Config` class. Variables can be constant, or probabilistic (with a probability distribution using scipy).\n",
    "This class can be used as generators of parameters, saved and loaded as a [YAML](https://en.wikipedia.org/wiki/YAML) file."
   ]
  },
  {
   "cell_type": "markdown",
   "metadata": {},
   "source": [
    "  "
   ]
  },
  {
   "cell_type": "markdown",
   "metadata": {},
   "source": [
    "Location configuration should contain at least two fields: `locations` and `latencies`. \n",
    "- `locations` is an array or a tuple with names of locations.\n",
    "- `latencies` is a dictionary (matrix) with latencies of pairwise connections.\n",
    "\n",
    "Depending on the experiments, latencies can be constant, but a more realistic model is a probabilistic distribution.\n",
    "Such a distribution is represented with the `Dist` class. \n",
    "\n",
    "`Dist` class is a wrap-around [scipy.stats](https://docs.scipy.org/doc/scipy/reference/stats.html), which has a rich collection of distributions. Use the [link](https://docs.scipy.org/doc/scipy/reference/stats.html) as reference documentation when choosing a distribution function.   \n",
    "\n",
    "Finally,  `Config.get()` samples all the parameters from distributions and returns them as a dictionary.  \n",
    "\n",
    "Let's try it out:"
   ]
  },
  {
   "cell_type": "code",
   "execution_count": 1,
   "metadata": {
    "ExecuteTime": {
     "end_time": "2020-03-27T09:17:35.256784Z",
     "start_time": "2020-03-27T09:17:34.199645Z"
    },
    "recordTiming": true
   },
   "outputs": [],
   "source": [
    "from p2psimpy.config import *\n",
    "\n",
    "\n",
    "class ConstLocations(Config):\n",
    "    '''A configuration with 2 locations: LocA and LocB with constant latencies.'''\n",
    "    locations = ['LocA', 'LocB']\n",
    "    latencies = {\n",
    "        'LocA': {'LocB': 10, 'LocA': 2},\n",
    "        'LocB': {'LocB': 1}\n",
    "    }    \n",
    "\n",
    "class DistLocations(Config):\n",
    "    '''A configuration with 2 locations: LocA and LocB with variable latencies defined with a statistical function.'''\n",
    "    locations = ['LocA', 'LocB']\n",
    "    latencies = {\n",
    "        'LocB': {'LocB': Dist('gamma', (1, 1, 1))},\n",
    "        'LocA': {'LocB': Dist('norm', (12, 2)), 'LocA': Dist('norm', (2, 0.5))},\n",
    "    }    \n",
    "    "
   ]
  },
  {
   "cell_type": "code",
   "execution_count": 2,
   "metadata": {
    "ExecuteTime": {
     "end_time": "2020-03-27T09:17:35.274429Z",
     "start_time": "2020-03-27T09:17:35.259195Z"
    }
   },
   "outputs": [
    {
     "data": {
      "text/plain": [
       "{'latencies': {'LocA': {'LocB': 10, 'LocA': 2}, 'LocB': {'LocB': 1}},\n",
       " 'locations': ['LocA', 'LocB']}"
      ]
     },
     "execution_count": 2,
     "metadata": {},
     "output_type": "execute_result"
    }
   ],
   "source": [
    "ConstLocations.get()"
   ]
  },
  {
   "cell_type": "code",
   "execution_count": 3,
   "metadata": {
    "ExecuteTime": {
     "end_time": "2020-03-27T09:17:35.287131Z",
     "start_time": "2020-03-27T09:17:35.278297Z"
    }
   },
   "outputs": [
    {
     "data": {
      "text/plain": [
       "{'latencies': {'LocB': {'LocB': 2.025076256881249},\n",
       "  'LocA': {'LocB': 13.952511986240951, 'LocA': 2.3888459518654286}},\n",
       " 'locations': ['LocA', 'LocB']}"
      ]
     },
     "execution_count": 3,
     "metadata": {},
     "output_type": "execute_result"
    }
   ],
   "source": [
    "DistLocations.get()"
   ]
  },
  {
   "cell_type": "markdown",
   "metadata": {},
   "source": [
    "Every time you call `Config.get()` it will return new sample"
   ]
  },
  {
   "cell_type": "code",
   "execution_count": 4,
   "metadata": {
    "ExecuteTime": {
     "end_time": "2020-03-27T09:17:35.304760Z",
     "start_time": "2020-03-27T09:17:35.294903Z"
    }
   },
   "outputs": [
    {
     "data": {
      "text/plain": [
       "{'latencies': {'LocB': {'LocB': 1.9774326409246423},\n",
       "  'LocA': {'LocB': 10.774160240586422, 'LocA': 2.5565101144031046}},\n",
       " 'locations': ['LocA', 'LocB']}"
      ]
     },
     "execution_count": 4,
     "metadata": {},
     "output_type": "execute_result"
    }
   ],
   "source": [
    "DistLocations.get()"
   ]
  },
  {
   "cell_type": "markdown",
   "metadata": {},
   "source": [
    " "
   ]
  },
  {
   "cell_type": "markdown",
   "metadata": {},
   "source": [
    "To visualize it we can represent latencies sample as pandas dataframe. It provides a readable table:"
   ]
  },
  {
   "cell_type": "code",
   "execution_count": 5,
   "metadata": {
    "ExecuteTime": {
     "end_time": "2020-03-27T09:17:35.896505Z",
     "start_time": "2020-03-27T09:17:35.307036Z"
    }
   },
   "outputs": [
    {
     "data": {
      "text/html": [
       "<div>\n",
       "<style scoped>\n",
       "    .dataframe tbody tr th:only-of-type {\n",
       "        vertical-align: middle;\n",
       "    }\n",
       "\n",
       "    .dataframe tbody tr th {\n",
       "        vertical-align: top;\n",
       "    }\n",
       "\n",
       "    .dataframe thead th {\n",
       "        text-align: right;\n",
       "    }\n",
       "</style>\n",
       "<table border=\"1\" class=\"dataframe\">\n",
       "  <thead>\n",
       "    <tr style=\"text-align: right;\">\n",
       "      <th></th>\n",
       "      <th>LocB</th>\n",
       "      <th>LocA</th>\n",
       "    </tr>\n",
       "  </thead>\n",
       "  <tbody>\n",
       "    <tr>\n",
       "      <th>LocB</th>\n",
       "      <td>1.425207</td>\n",
       "      <td>10.779827</td>\n",
       "    </tr>\n",
       "    <tr>\n",
       "      <th>LocA</th>\n",
       "      <td>NaN</td>\n",
       "      <td>1.758086</td>\n",
       "    </tr>\n",
       "  </tbody>\n",
       "</table>\n",
       "</div>"
      ],
      "text/plain": [
       "          LocB       LocA\n",
       "LocB  1.425207  10.779827\n",
       "LocA       NaN   1.758086"
      ]
     },
     "execution_count": 5,
     "metadata": {},
     "output_type": "execute_result"
    }
   ],
   "source": [
    "import pandas as pd \n",
    "\n",
    "lat_sample = pd.DataFrame(DistLocations.get()['latencies'])\n",
    "lat_sample"
   ]
  },
  {
   "cell_type": "markdown",
   "metadata": {
    "ExecuteTime": {
     "end_time": "2020-03-16T16:34:34.176798Z",
     "start_time": "2020-03-16T16:34:34.165723Z"
    }
   },
   "source": [
    "*Notice that table has **NaN** values. They will not be automatically filled with symmetric value if not specified.*\n",
    "\n",
    "We can transform the table to fill them up symmetrically. "
   ]
  },
  {
   "cell_type": "code",
   "execution_count": 6,
   "metadata": {
    "ExecuteTime": {
     "end_time": "2020-03-27T09:17:35.940332Z",
     "start_time": "2020-03-27T09:17:35.904410Z"
    }
   },
   "outputs": [
    {
     "data": {
      "text/html": [
       "<div>\n",
       "<style scoped>\n",
       "    .dataframe tbody tr th:only-of-type {\n",
       "        vertical-align: middle;\n",
       "    }\n",
       "\n",
       "    .dataframe tbody tr th {\n",
       "        vertical-align: top;\n",
       "    }\n",
       "\n",
       "    .dataframe thead th {\n",
       "        text-align: right;\n",
       "    }\n",
       "</style>\n",
       "<table border=\"1\" class=\"dataframe\">\n",
       "  <thead>\n",
       "    <tr style=\"text-align: right;\">\n",
       "      <th></th>\n",
       "      <th>LocB</th>\n",
       "      <th>LocA</th>\n",
       "    </tr>\n",
       "  </thead>\n",
       "  <tbody>\n",
       "    <tr>\n",
       "      <th>LocB</th>\n",
       "      <td>1.425207</td>\n",
       "      <td>10.779827</td>\n",
       "    </tr>\n",
       "    <tr>\n",
       "      <th>LocA</th>\n",
       "      <td>10.779827</td>\n",
       "      <td>1.758086</td>\n",
       "    </tr>\n",
       "  </tbody>\n",
       "</table>\n",
       "</div>"
      ],
      "text/plain": [
       "           LocB       LocA\n",
       "LocB   1.425207  10.779827\n",
       "LocA  10.779827   1.758086"
      ]
     },
     "execution_count": 6,
     "metadata": {},
     "output_type": "execute_result"
    }
   ],
   "source": [
    "lat_sample[pd.isnull(lat_sample)] = lat_sample.T[pd.isnull(lat_sample)]\n",
    "lat_sample"
   ]
  },
  {
   "cell_type": "markdown",
   "metadata": {},
   "source": [
    "\n",
    "### Visualizing the data\n",
    "\n",
    "\n",
    " 1. Prepare data: \n",
    "  - Trasfer to pandas dataframe\n",
    "  - Fill null values with the symmetic counter-part\n",
    "  - Transform into list of tuples: 'from', 'to', 'value' \n",
    "  \n",
    " 2. Get 100 samples from the configuration with latencies\n",
    " \n",
    " 3. Visualize in a grid of histograms\n",
    "\n"
   ]
  },
  {
   "cell_type": "code",
   "execution_count": 7,
   "metadata": {
    "ExecuteTime": {
     "end_time": "2020-03-27T09:17:41.570964Z",
     "start_time": "2020-03-27T09:17:35.952523Z"
    }
   },
   "outputs": [
    {
     "data": {
      "image/png": "[encoded data removed]",
      "text/plain": [
       "<Figure size 576x576 with 4 Axes>"
      ]
     },
     "metadata": {},
     "output_type": "display_data"
    }
   ],
   "source": [
    "\n",
    "import matplotlib.pyplot as plt\n",
    "import seaborn as sns\n",
    "sns.set(style='darkgrid')\n",
    "\n",
    "# 1. Data prepare\n",
    "def prepare(x):\n",
    "    x = pd.DataFrame(x)\n",
    "    x[pd.isnull(x)] = x.T[pd.isnull(x)]\n",
    "    return x.stack().reset_index()\\\n",
    "                    .rename(columns={'level_0':'from', 'level_1':'to', 0: 'value'})\n",
    "                    \n",
    "# 2. Get 100 samples\n",
    "df = pd.concat(prepare(DistLocations.get()['latencies']) for _ in range(100))\n",
    "\n",
    "# 3. Visualize in a grid of histograms\n",
    "g = sns.FacetGrid(df, col='to', row='from', height=4, aspect=1)\n",
    "g = g.map(sns.distplot, 'value')\n"
   ]
  },
  {
   "cell_type": "raw",
   "metadata": {},
   "source": []
  },
  {
   "cell_type": "markdown",
   "metadata": {},
   "source": [
    "The visulations shows the latency matrix for our two locations. "
   ]
  },
  {
   "cell_type": "markdown",
   "metadata": {},
   "source": [
    "----\n",
    "## Peers and Topologies \n",
    "\n",
    "Usually when designing your own system, the architect should think about the network topology: *How are peers connected to each other?*. \n",
    "\n",
    "\n",
    "Simulation can work in two modes: \n",
    "\n",
    "1. **NetworkX**. You know what topology you want to simulate, pass a network topology to the simulation.\n",
    "\n",
    "2. **Emergent**. Peers connect to each other without a pre-defined topology. A certain topology emerges through local rules, for example, peers connect with each other through the bootstrap peers and exchange data with each other. Typically, unstructured topologies of a peer-to-peer network fall in this category. You can read more [here](https://en.wikipedia.org/wiki/Bootstrapping_node), or  read how [Bitcoin network](https://en.bitcoin.it/wiki/Network) is formed.  \n",
    "\n",
    "\n",
    "### Networkx topology\n",
    "\n",
    "Let's first see how we can form a network topology.\n"
   ]
  },
  {
   "cell_type": "code",
   "execution_count": 8,
   "metadata": {
    "ExecuteTime": {
     "end_time": "2020-03-27T09:17:43.066290Z",
     "start_time": "2020-03-27T09:17:41.577831Z"
    },
    "recordTiming": true
   },
   "outputs": [
    {
     "data": {
      "image/png": "[encoded data removed]",
      "text/plain": [
       "<Figure size 432x288 with 1 Axes>"
      ]
     },
     "metadata": {},
     "output_type": "display_data"
    }
   ],
   "source": [
    "import networkx as nx\n",
    "\n",
    "peer_num = 10\n",
    "\n",
    "# Generate a random network network topology \n",
    "G = nx.erdos_renyi_graph(10, 0.5)\n",
    "\n",
    "# Assign a peer type to the peers with a type. Type if later used to tell which services to run.\n",
    "nx.set_node_attributes(G, {k: 'basic' for k in G.nodes()}, 'type')\n",
    "\n",
    "sns.set(style='dark')\n",
    "nx.draw_networkx(G)\n"
   ]
  },
  {
   "cell_type": "markdown",
   "metadata": {},
   "source": [
    "NetworkX is a library with rich semantics to work with graphs. You can read more [here](https://networkx.github.io/documentation/stable/reference/generators.html).  \n",
    "\n",
    "You can choose any graph, generate them and put `type` as node attributes. `type` is a name for the peer type. We will explain later on how it will be used in a simulation.  \n",
    "\n",
    "\n",
    "\n",
    "### Emergent topology\n",
    "\n",
    "What if topology is not known?\n",
    "\n",
    "In this case we can model the peer discovery mechanism through *bootstrapping* peers. The general bootstrap process is the following: \n",
    "1. Bootstrap nodes are first created and introduced to the network. The goal of bootstrap nodes is to maintain list of peers and connect them with each other upon request. Bootstrap nodes are usually known in advance, for example, hardcoded in the supplied code. \n",
    "2. The bootstrap procedure is as follows: a) new peer joins the network, b) peer sends a `Hello` message to one of bootstrap nodes, c) a bootstrap node responds to the peer with a random sample of known online peers. \n",
    "3. The peer connect with other peers from the given sample list.\n",
    "\n",
    "\n",
    "To run default bootstrap you should pass as a parameter `topology`, a dictionary with type `peer_id` -> {`type`: type_name}\n",
    "This is all abstracted in simulation, but you can specify your own bootstrap logic later. \n",
    "\n",
    "\n",
    "<!-- ### Explain more\n",
    "\n",
    "Discovery  -->"
   ]
  },
  {
   "cell_type": "markdown",
   "metadata": {},
   "source": [
    "-------\n",
    "## Peer types and services\n",
    "\n",
    "Finally, our simulation needs messages and service to process these messages. In `p2psimpy` we model it through Manager Classes and `PeerType`.\n",
    "\n",
    "Below we show an example of a simple map with one type of the peer: `basic`: \n",
    "\n",
    "- Peer is described with a `PeerType(PeerConfig, services)`. \n",
    "    - `PeerConfig` describes a physical capacities of the node: bandwidth for the messages that go through (upload and download) and location (one the specified before)\n",
    "    - `services` is a list of service that peer should run. There some standard services that you can use in your simulation. But you will also implement your own later!\n",
    "- Minimally peer should have at least a connection service to connect to the network and respond to the introduction messages. These are the standard connection services available for you: \n",
    "  - `BaseConnectionManager`: a simple connection service that can connect, ping other peers and disconnect unresponsive peers. This is the recommended service for a **Networkx** topology approach.  \n",
    "  - `P2PConnectionManager`: an extended BaseConnectionManger that additionally keeps the number of connections between specified `min_peers` and `max_peers`. If the number of local connections is lower than `min_peers`, service will actievly pool and ask other peers for new connection. If the number of local connections is higher than `max_peers`, service will refuse all new connection and disconnect the slowest peers. This is a recommended service for an **Emergent** topology approach. \n",
    "\n",
    "Let's see how it looks in code:\n"
   ]
  },
  {
   "cell_type": "code",
   "execution_count": 9,
   "metadata": {
    "ExecuteTime": {
     "end_time": "2020-03-27T09:17:43.208204Z",
     "start_time": "2020-03-27T09:17:43.085495Z"
    }
   },
   "outputs": [],
   "source": [
    "from p2psimpy.config import *\n",
    "from p2psimpy.consts import *\n",
    "    \n",
    "class PeerConfig(Config):\n",
    "    # Location of the peer - random location from the locations specified earlier \n",
    "    location = Dist('sample', DistLocations.locations)\n",
    "    # Bandwidth is normally distributed with average of 50 and var 10 Mbit\n",
    "    bandwidth_ul = Dist( 'norm', (50*MBit, 10*MBit))\n",
    "    bandwidth_dl = Dist( 'norm', (50*MBit, 10*MBit))\n",
    "\n",
    "# Let's add ConnectionManager - that will periodically ping neighbours and check if they are online.\n",
    "# We use BaseConnectionManager - that will periodically ping peer and disconnect unresponsive peers.\n",
    "from p2psimpy.services.connection_manager import BaseConnectionManager\n",
    "\n",
    "services = (BaseConnectionManager,)\n",
    "# We have on peer role: basic\n",
    "peer_types = {'basic': PeerType(PeerConfig, services)}"
   ]
  },
  {
   "cell_type": "markdown",
   "metadata": {},
   "source": [
    "How to use these configurations? Configs are used to get value. \n",
    "They work as generators and attribute descriptors.  "
   ]
  },
  {
   "cell_type": "markdown",
   "metadata": {},
   "source": [
    "----"
   ]
  },
  {
   "cell_type": "markdown",
   "metadata": {},
   "source": [
    "# Putting it all together\n",
    "\n",
    "\n",
    "Let's combine all you learned so far to run a simple simulation:\n",
    "\n",
    "1. Define locations and simulation world parameters.\n",
    "2. Define topology and number of peers with their types.  \n",
    "3. Define what each peer type is with a `PeerConfig` and what it does with services. \n",
    "\n",
    "\n",
    "After we defined all this we can create a simulation object and run it with `.run(time)`.\n",
    "\n",
    "Simulation has it's internal clock and scheduler for all events. The parameter `time` is a time until which the simulation is run. \n",
    "\n",
    "\n",
    "***The time is defined in milliseconds**!\n",
    "\n",
    "\n",
    "\n"
   ]
  },
  {
   "cell_type": "markdown",
   "metadata": {
    "ExecuteTime": {
     "end_time": "2020-03-11T09:50:33.374122Z",
     "start_time": "2020-03-11T09:50:33.347834Z"
    }
   },
   "source": [
    "## Random given topology \n",
    "\n",
    "Let us first try out with a random given topology generated as a networkx graph"
   ]
  },
  {
   "cell_type": "code",
   "execution_count": 10,
   "metadata": {
    "ExecuteTime": {
     "end_time": "2020-03-27T09:17:43.889018Z",
     "start_time": "2020-03-27T09:17:43.214432Z"
    }
   },
   "outputs": [
    {
     "data": {
      "image/png": "[encoded data removed]",
      "text/plain": [
       "<Figure size 432x288 with 1 Axes>"
      ]
     },
     "metadata": {},
     "output_type": "display_data"
    }
   ],
   "source": [
    "from p2psimpy.config import *\n",
    "from p2psimpy.consts import *\n",
    "import networkx as nx\n",
    "\n",
    "class Locations(Config):\n",
    "    locations = ['LocA', 'LocB']\n",
    "    latencies = {\n",
    "        'LocB': {'LocB': Dist('gamma', (1, 1, 1))},\n",
    "        'LocA': {'LocB': Dist('norm', (12, 2)), 'LocA': Dist('norm', (2, 0.5))},\n",
    "    } \n",
    "\n",
    "# Number of nodes\n",
    "N = 10\n",
    "    \n",
    "# Generate network topology \n",
    "G = nx.erdos_renyi_graph(N, 0.5)\n",
    "# Assign a peer type to the peers \n",
    "nx.set_node_attributes(G, {k: 'basic' for k in G.nodes()}, 'type')\n",
    "\n",
    "class PeerConfig(Config):\n",
    "    location =  Dist('sample', Locations.locations)\n",
    "    bandwidth_ul = Dist( 'norm', (50*MBit, 10*MBit))\n",
    "    bandwidth_dl = Dist( 'norm', (50*MBit, 10*MBit))\n",
    "\n",
    "# Let's add ConnectionManager - that will periodically ping neighbours and check if they are online \n",
    "from p2psimpy.services.connection_manager import BaseConnectionManager\n",
    "# For each service you can define own configuration, or use default values.   \n",
    "# Lets use base connection manager - that will periodically ping peer and disconnect unresponsive peers.\n",
    "\n",
    "services = (BaseConnectionManager,)\n",
    "peer_types = {'basic': PeerType(PeerConfig, services)}\n",
    "\n",
    "# Display the topology \n",
    "nx.draw_networkx(G)"
   ]
  },
  {
   "cell_type": "code",
   "execution_count": 11,
   "metadata": {
    "ExecuteTime": {
     "end_time": "2020-03-27T09:17:44.329539Z",
     "start_time": "2020-03-27T09:17:43.895337Z"
    }
   },
   "outputs": [],
   "source": [
    "from p2psimpy.simulation import BaseSimulation\n",
    "\n",
    "# Create BaseSimulation with enabled logger and save in the logs directory. \n",
    "sim = BaseSimulation(Locations, G, peer_types, enable_logger=True, logger_dir='logs')\n",
    "\n",
    "# Let's run the simulation for 5 seconds\n",
    "sim.run(5_000)"
   ]
  },
  {
   "cell_type": "markdown",
   "metadata": {
    "ExecuteTime": {
     "end_time": "2020-03-17T12:40:15.632268Z",
     "start_time": "2020-03-17T12:40:15.613568Z"
    }
   },
   "source": [
    "----------------------------\n",
    "\n",
    "What's next? There is no output.\n",
    "\n",
    "We run the simulator with logger enabled to see the all the messages exchanged in the network. \n",
    "\n",
    "The output is written to the logs in `\\logs` directory. Let's see what is the output. \n",
    "Each peer writes its own log with events happening like received message, connecting to a peer etc. \n",
    "\n",
    "For example, here is the log of peer 1:"
   ]
  },
  {
   "cell_type": "code",
   "execution_count": 12,
   "metadata": {
    "ExecuteTime": {
     "end_time": "2020-03-27T09:17:44.413024Z",
     "start_time": "2020-03-27T09:17:44.345639Z"
    }
   },
   "outputs": [
    {
     "name": "stdout",
     "output_type": "stream",
     "text": [
      "Peer_1:basic INFO 0.654515920676382: Connecting to Peer_3:basic\n",
      "Peer_1:basic INFO 0.6745970689922098: Received message <Hello:> from Peer_6:basic\n",
      "Peer_1:basic INFO 0.6745970689922098: Connecting to Peer_6:basic\n",
      "Peer_1:basic INFO 0.6745970689922098: Sending message <Hello:> to Peer_6:basic\n",
      "Peer_1:basic INFO 0.8705027471002571: Received message <Hello:> from Peer_2:basic\n",
      "Peer_1:basic INFO 0.8705027471002571: Connecting to Peer_2:basic\n",
      "Peer_1:basic INFO 0.8705027471002571: Sending message <Hello:> to Peer_2:basic\n",
      "Peer_1:basic INFO 0.8728205394223693: Received message <Hello:> from Peer_3:basic\n",
      "Peer_1:basic INFO 1.007371718281918: Received message <Hello:> from Peer_5:basic\n",
      "Peer_1:basic INFO 1.007371718281918: Connecting to Peer_5:basic\n",
      "Peer_1:basic INFO 1.007371718281918: Sending message <Hello:> to Peer_5:basic\n",
      "Peer_1:basic INFO 1.5700708991683305: Received message <Hello:> from Peer_3:basic\n",
      "Peer_1:basic INFO 4.95214823159592: Received message <Hello:> from Peer_8:basic\n",
      "Peer_1:basic INFO 4.95214823159592: Connecting to Peer_8:basic\n",
      "Peer_1:basic INFO 4.95214823159592: Sending message <Hello:> to Peer_8:basic\n",
      "Peer_1:basic INFO 5.044398801160328: Received message <Hello:> from Peer_7:basic\n",
      "Peer_1:basic INFO 5.044398801160328: Connecting to Peer_7:basic\n",
      "Peer_1:basic INFO 5.044398801160328: Sending message <Hello:> to Peer_7:basic\n",
      "Peer_1:basic INFO 5.327367104795985: Connecting to Peer_4:basic\n",
      "Peer_1:basic INFO 5.928600758227803: Connecting to Peer_9:basic\n",
      "Peer_1:basic INFO 6.252854954618606: Connecting to Peer_2:basic\n",
      "Peer_1:basic INFO 6.546931985927854: Received message <Hello:> from Peer_9:basic\n",
      "Peer_1:basic INFO 6.550991486916152: Received message <Hello:> from Peer_4:basic\n",
      "Peer_1:basic INFO 7.674051408063358: Received message <Hello:> from Peer_2:basic\n",
      "Peer_1:basic INFO 11.532875444402427: Received message <Hello:> from Peer_4:basic\n",
      "Peer_1:basic INFO 11.785701991259087: Received message <Hello:> from Peer_2:basic\n",
      "Peer_1:basic INFO 11.89348400463293: Received message <Hello:> from Peer_9:basic\n",
      "Peer_1:basic INFO 1000: Sending message <Ping:> to Peer_3:basic\n",
      "Peer_1:basic INFO 1000: Sending message <Ping:> to Peer_6:basic\n",
      "Peer_1:basic INFO 1000: Sending message <Ping:> to Peer_2:basic\n",
      "Peer_1:basic INFO 1000: Sending message <Ping:> to Peer_5:basic\n",
      "Peer_1:basic INFO 1000: Sending message <Ping:> to Peer_8:basic\n",
      "Peer_1:basic INFO 1000: Sending message <Ping:> to Peer_7:basic\n",
      "Peer_1:basic INFO 1000: Sending message <Ping:> to Peer_4:basic\n",
      "Peer_1:basic INFO 1000: Sending message <Ping:> to Peer_9:basic\n",
      "Peer_1:basic INFO 1000: Sending message <Ping:> to Peer_2:basic\n",
      "Peer_1:basic INFO 1000.5001399441843: Received message <Ping:> from Peer_6:basic\n",
      "Peer_1:basic INFO 1000.5001399441843: Sending message <Pong:> to Peer_6:basic\n",
      "Peer_1:basic INFO 1001.2050253468017: Received message <Ping:> from Peer_5:basic\n",
      "Peer_1:basic INFO 1001.2050253468017: Sending message <Pong:> to Peer_5:basic\n",
      "Peer_1:basic INFO 1001.5289953915201: Received message <Pong:> from Peer_6:basic\n",
      "Peer_1:basic INFO 1001.8052261659602: Received message <Ping:> from Peer_3:basic\n",
      "Peer_1:basic INFO 1001.8052261659602: Sending message <Pong:> to Peer_3:basic\n",
      "Peer_1:basic INFO 1001.9834551242985: Received message <Pong:> from Peer_5:basic\n",
      "Peer_1:basic INFO 1002.016809241991: Received message <Pong:> from Peer_2:basic\n",
      "Peer_1:basic INFO 1002.9260179920561: Received message <Pong:> from Peer_3:basic\n",
      "Peer_1:basic INFO 1003.8948847757156: Received message <Ping:> from Peer_2:basic\n",
      "Peer_1:basic INFO 1003.8948847757156: Sending message <Pong:> to Peer_2:basic\n",
      "Peer_1:basic INFO 1004.7067497496488: Received message <Ping:> from Peer_8:basic\n",
      "Peer_1:basic INFO 1004.7067497496488: Sending message <Pong:> to Peer_8:basic\n",
      "Peer_1:basic INFO 1004.9888208250754: Received message <Ping:> from Peer_2:basic\n",
      "Peer_1:basic INFO 1004.9888208250754: Sending message <Pong:> to Peer_2:basic\n",
      "Peer_1:basic INFO 1006.3907036949671: Received message <Ping:> from Peer_4:basic\n",
      "Peer_1:basic INFO 1006.3907036949671: Sending message <Pong:> to Peer_4:basic\n",
      "Peer_1:basic INFO 1006.9746195928838: Received message <Ping:> from Peer_9:basic\n",
      "Peer_1:basic INFO 1006.9746195928838: Sending message <Pong:> to Peer_9:basic\n",
      "Peer_1:basic INFO 1007.2900399174393: Received message <Ping:> from Peer_7:basic\n",
      "Peer_1:basic INFO 1007.2900399174393: Sending message <Pong:> to Peer_7:basic\n",
      "Peer_1:basic INFO 1010.5417581665287: Received message <Pong:> from Peer_2:basic\n",
      "Peer_1:basic INFO 1010.5937044620778: Received message <Pong:> from Peer_4:basic\n",
      "Peer_1:basic INFO 1011.827273318082: Received message <Pong:> from Peer_8:basic\n",
      "Peer_1:basic INFO 1012.0608880344769: Received message <Pong:> from Peer_9:basic\n",
      "Peer_1:basic INFO 1012.098108888644: Received message <Pong:> from Peer_7:basic\n",
      "Peer_1:basic INFO 2000: Sending message <Ping:> to Peer_3:basic\n",
      "Peer_1:basic INFO 2000: Sending message <Ping:> to Peer_6:basic\n",
      "Peer_1:basic INFO 2000: Sending message <Ping:> to Peer_2:basic\n",
      "Peer_1:basic INFO 2000: Sending message <Ping:> to Peer_5:basic\n",
      "Peer_1:basic INFO 2000: Sending message <Ping:> to Peer_8:basic\n",
      "Peer_1:basic INFO 2000: Sending message <Ping:> to Peer_7:basic\n",
      "Peer_1:basic INFO 2000: Sending message <Ping:> to Peer_4:basic\n",
      "Peer_1:basic INFO 2000: Sending message <Ping:> to Peer_9:basic\n",
      "Peer_1:basic INFO 2000: Sending message <Ping:> to Peer_2:basic\n",
      "Peer_1:basic INFO 2000.5053266119667: Received message <Ping:> from Peer_2:basic\n",
      "Peer_1:basic INFO 2000.5053266119667: Sending message <Pong:> to Peer_2:basic\n",
      "Peer_1:basic INFO 2000.6640078054072: Received message <Ping:> from Peer_6:basic\n",
      "Peer_1:basic INFO 2000.6640078054072: Sending message <Pong:> to Peer_6:basic\n",
      "Peer_1:basic INFO 2000.872014731177: Received message <Ping:> from Peer_5:basic\n",
      "Peer_1:basic INFO 2000.872014731177: Sending message <Pong:> to Peer_5:basic\n",
      "Peer_1:basic INFO 2000.9730577438638: Received message <Ping:> from Peer_3:basic\n",
      "Peer_1:basic INFO 2000.9730577438638: Sending message <Pong:> to Peer_3:basic\n",
      "Peer_1:basic INFO 2001.1294827566908: Received message <Pong:> from Peer_6:basic\n",
      "Peer_1:basic INFO 2001.152819733151: Received message <Pong:> from Peer_2:basic\n",
      "Peer_1:basic INFO 2002.0798363479184: Received message <Pong:> from Peer_5:basic\n",
      "Peer_1:basic INFO 2002.2438933382357: Received message <Pong:> from Peer_3:basic\n",
      "Peer_1:basic INFO 2005.1753726606833: Received message <Ping:> from Peer_2:basic\n",
      "Peer_1:basic INFO 2005.1753726606833: Sending message <Pong:> to Peer_2:basic\n",
      "Peer_1:basic INFO 2005.9748078122625: Received message <Ping:> from Peer_8:basic\n",
      "Peer_1:basic INFO 2005.9748078122625: Sending message <Pong:> to Peer_8:basic\n",
      "Peer_1:basic INFO 2007.0678970115216: Received message <Ping:> from Peer_7:basic\n",
      "Peer_1:basic INFO 2007.0678970115216: Sending message <Pong:> to Peer_7:basic\n",
      "Peer_1:basic INFO 2007.2427616106547: Received message <Ping:> from Peer_4:basic\n",
      "Peer_1:basic INFO 2007.2427616106547: Sending message <Pong:> to Peer_4:basic\n",
      "Peer_1:basic INFO 2007.408831424242: Received message <Ping:> from Peer_9:basic\n",
      "Peer_1:basic INFO 2007.408831424242: Sending message <Pong:> to Peer_9:basic\n",
      "Peer_1:basic INFO 2010.664037113453: Received message <Pong:> from Peer_4:basic\n",
      "Peer_1:basic INFO 2011.4048907909898: Received message <Pong:> from Peer_9:basic\n",
      "Peer_1:basic INFO 2012.7969355505297: Received message <Pong:> from Peer_2:basic\n",
      "Peer_1:basic INFO 2012.8369457802705: Received message <Pong:> from Peer_7:basic\n",
      "Peer_1:basic INFO 2013.8518355796475: Received message <Pong:> from Peer_8:basic\n",
      "Peer_1:basic INFO 3000: Sending message <Ping:> to Peer_3:basic\n",
      "Peer_1:basic INFO 3000: Sending message <Ping:> to Peer_6:basic\n",
      "Peer_1:basic INFO 3000: Sending message <Ping:> to Peer_2:basic\n",
      "Peer_1:basic INFO 3000: Sending message <Ping:> to Peer_5:basic\n",
      "Peer_1:basic INFO 3000: Sending message <Ping:> to Peer_8:basic\n",
      "Peer_1:basic INFO 3000: Sending message <Ping:> to Peer_7:basic\n",
      "Peer_1:basic INFO 3000: Sending message <Ping:> to Peer_4:basic\n",
      "Peer_1:basic INFO 3000: Sending message <Ping:> to Peer_9:basic\n",
      "Peer_1:basic INFO 3000: Sending message <Ping:> to Peer_2:basic\n",
      "Peer_1:basic INFO 3000.517218164692: Received message <Ping:> from Peer_6:basic\n",
      "Peer_1:basic INFO 3000.517218164692: Sending message <Pong:> to Peer_6:basic\n",
      "Peer_1:basic INFO 3000.690967667119: Received message <Ping:> from Peer_3:basic\n",
      "Peer_1:basic INFO 3000.690967667119: Sending message <Pong:> to Peer_3:basic\n",
      "Peer_1:basic INFO 3000.7395156545545: Received message <Ping:> from Peer_2:basic\n",
      "Peer_1:basic INFO 3000.7395156545545: Sending message <Pong:> to Peer_2:basic\n",
      "Peer_1:basic INFO 3001.6724038814687: Received message <Pong:> from Peer_2:basic\n",
      "Peer_1:basic INFO 3001.7465409732877: Received message <Pong:> from Peer_5:basic\n",
      "Peer_1:basic INFO 3002.152144664756: Received message <Pong:> from Peer_3:basic\n",
      "Peer_1:basic INFO 3002.587797071264: Received message <Ping:> from Peer_5:basic\n",
      "Peer_1:basic INFO 3002.587797071264: Sending message <Pong:> to Peer_5:basic\n",
      "Peer_1:basic INFO 3003.944963597567: Received message <Pong:> from Peer_6:basic\n",
      "Peer_1:basic INFO 3005.2349854462545: Received message <Ping:> from Peer_2:basic\n",
      "Peer_1:basic INFO 3005.2349854462545: Sending message <Pong:> to Peer_2:basic\n",
      "Peer_1:basic INFO 3005.5832118281423: Received message <Ping:> from Peer_4:basic\n",
      "Peer_1:basic INFO 3005.5832118281423: Sending message <Pong:> to Peer_4:basic\n",
      "Peer_1:basic INFO 3006.1619490904054: Received message <Ping:> from Peer_7:basic\n",
      "Peer_1:basic INFO 3006.1619490904054: Sending message <Pong:> to Peer_7:basic\n",
      "Peer_1:basic INFO 3006.8300422333846: Received message <Ping:> from Peer_9:basic\n",
      "Peer_1:basic INFO 3006.8300422333846: Sending message <Pong:> to Peer_9:basic\n",
      "Peer_1:basic INFO 3006.9015179601224: Received message <Ping:> from Peer_8:basic\n",
      "Peer_1:basic INFO 3006.9015179601224: Sending message <Pong:> to Peer_8:basic\n",
      "Peer_1:basic INFO 3010.6386873832307: Received message <Pong:> from Peer_9:basic\n",
      "Peer_1:basic INFO 3011.4929893807866: Received message <Pong:> from Peer_4:basic\n",
      "Peer_1:basic INFO 3011.498487727153: Received message <Pong:> from Peer_8:basic\n",
      "Peer_1:basic INFO 3012.2299449370703: Received message <Pong:> from Peer_7:basic\n",
      "Peer_1:basic INFO 3013.45990399638: Received message <Pong:> from Peer_2:basic\n",
      "Peer_1:basic INFO 4000: Sending message <Ping:> to Peer_3:basic\n",
      "Peer_1:basic INFO 4000: Sending message <Ping:> to Peer_6:basic\n",
      "Peer_1:basic INFO 4000: Sending message <Ping:> to Peer_2:basic\n",
      "Peer_1:basic INFO 4000: Sending message <Ping:> to Peer_5:basic\n",
      "Peer_1:basic INFO 4000: Sending message <Ping:> to Peer_8:basic\n",
      "Peer_1:basic INFO 4000: Sending message <Ping:> to Peer_7:basic\n",
      "Peer_1:basic INFO 4000: Sending message <Ping:> to Peer_4:basic\n",
      "Peer_1:basic INFO 4000: Sending message <Ping:> to Peer_9:basic\n",
      "Peer_1:basic INFO 4000: Sending message <Ping:> to Peer_2:basic\n",
      "Peer_1:basic INFO 4000.504646126646: Received message <Ping:> from Peer_3:basic\n",
      "Peer_1:basic INFO 4000.504646126646: Sending message <Pong:> to Peer_3:basic\n",
      "Peer_1:basic INFO 4000.708072187136: Received message <Ping:> from Peer_6:basic\n",
      "Peer_1:basic INFO 4000.708072187136: Sending message <Pong:> to Peer_6:basic\n",
      "Peer_1:basic INFO 4001.128658653321: Received message <Ping:> from Peer_5:basic\n",
      "Peer_1:basic INFO 4001.128658653321: Sending message <Pong:> to Peer_5:basic\n",
      "Peer_1:basic INFO 4001.233524703861: Received message <Pong:> from Peer_3:basic\n",
      "Peer_1:basic INFO 4001.7135204041197: Received message <Ping:> from Peer_2:basic\n",
      "Peer_1:basic INFO 4001.7135204041197: Sending message <Pong:> to Peer_2:basic\n",
      "Peer_1:basic INFO 4001.8032842184725: Received message <Pong:> from Peer_2:basic\n",
      "Peer_1:basic INFO 4001.8875946846506: Received message <Pong:> from Peer_5:basic\n",
      "Peer_1:basic INFO 4002.453796303256: Received message <Pong:> from Peer_6:basic\n",
      "Peer_1:basic INFO 4003.636113959826: Received message <Ping:> from Peer_8:basic\n",
      "Peer_1:basic INFO 4003.636113959826: Sending message <Pong:> to Peer_8:basic\n",
      "Peer_1:basic INFO 4004.496248737726: Received message <Ping:> from Peer_2:basic\n",
      "Peer_1:basic INFO 4004.496248737726: Sending message <Pong:> to Peer_2:basic\n",
      "Peer_1:basic INFO 4006.2270018690338: Received message <Ping:> from Peer_4:basic\n",
      "Peer_1:basic INFO 4006.2270018690338: Sending message <Pong:> to Peer_4:basic\n",
      "Peer_1:basic INFO 4006.2596067718837: Received message <Ping:> from Peer_9:basic\n",
      "Peer_1:basic INFO 4006.2596067718837: Sending message <Pong:> to Peer_9:basic\n",
      "Peer_1:basic INFO 4008.172877078527: Received message <Ping:> from Peer_7:basic\n",
      "Peer_1:basic INFO 4008.172877078527: Sending message <Pong:> to Peer_7:basic\n",
      "Peer_1:basic INFO 4010.7014524593483: Received message <Pong:> from Peer_4:basic\n",
      "Peer_1:basic INFO 4011.046401751569: Received message <Pong:> from Peer_8:basic\n",
      "Peer_1:basic INFO 4011.8302951305604: Received message <Pong:> from Peer_7:basic\n",
      "Peer_1:basic INFO 4011.991822403515: Received message <Pong:> from Peer_2:basic\n",
      "Peer_1:basic INFO 4013.374030663718: Received message <Pong:> from Peer_9:basic\n",
      "\n"
     ]
    }
   ],
   "source": [
    "with open('logs/Peer_1:basic.log') as s:\n",
    "    print(s.read())"
   ]
  },
  {
   "cell_type": "markdown",
   "metadata": {},
   "source": [
    "## Emergent topology\n",
    "\n",
    "Now let's try an emergent topology, we will use the same configuration, but use bootstrap peer for discovery and building a network. For the connection manager we will use `P2PConnectionManager`.  \n"
   ]
  },
  {
   "cell_type": "code",
   "execution_count": 13,
   "metadata": {
    "ExecuteTime": {
     "end_time": "2020-03-27T09:17:44.430653Z",
     "start_time": "2020-03-27T09:17:44.415134Z"
    }
   },
   "outputs": [],
   "source": [
    "from p2psimpy.services.connection_manager import P2PConnectionManager\n",
    "\n",
    "num_peers = 10\n",
    "\n",
    "topology_specs = {i:{'type': 'basic'} for i in range(1, num_peers+1)}\n",
    "\n",
    "class ConnectionConfig(Config):\n",
    "    min_peers = 4\n",
    "    max_peers = 8\n",
    "\n",
    "peer_types = {'basic': PeerType(PeerConfig, {P2PConnectionManager: ConnectionConfig})}\n"
   ]
  },
  {
   "cell_type": "code",
   "execution_count": 14,
   "metadata": {
    "ExecuteTime": {
     "end_time": "2020-03-27T09:17:44.729428Z",
     "start_time": "2020-03-27T09:17:44.442513Z"
    }
   },
   "outputs": [],
   "source": [
    "sim = BaseSimulation(Locations, topology_specs, peer_types, logger_dir='logs2')\n",
    "\n",
    "# Let's run the simulation for 5 seconds\n",
    "sim.run(5_000)"
   ]
  },
  {
   "cell_type": "markdown",
   "metadata": {},
   "source": [
    "#### The peers form themselves a random topology"
   ]
  },
  {
   "cell_type": "code",
   "execution_count": 15,
   "metadata": {
    "ExecuteTime": {
     "end_time": "2020-03-27T09:17:46.596898Z",
     "start_time": "2020-03-27T09:17:44.765123Z"
    }
   },
   "outputs": [
    {
     "data": {
      "image/png": "[encoded data removed]",
      "text/plain": [
       "<Figure size 432x288 with 1 Axes>"
      ]
     },
     "metadata": {},
     "output_type": "display_data"
    }
   ],
   "source": [
    "G1 = sim.get_graph()\n",
    "nx.draw_networkx(G1)"
   ]
  },
  {
   "cell_type": "code",
   "execution_count": 16,
   "metadata": {
    "ExecuteTime": {
     "end_time": "2020-03-27T09:17:46.609528Z",
     "start_time": "2020-03-27T09:17:46.600756Z"
    }
   },
   "outputs": [
    {
     "name": "stdout",
     "output_type": "stream",
     "text": [
      "Peer_1:basic WARNING 0: Not enough peers, fetching more (0, 4)\n",
      "Peer_1:basic INFO 0.6121177874586079: Connecting to Peer_11:bootstrap\n",
      "Peer_1:basic INFO 1.1546441689121463: Received message <RequestPeers:> from Peer_11:bootstrap\n",
      "Peer_1:basic INFO 1.1546441689121463: Sending message <PeerList> to Peer_11:bootstrap\n",
      "Peer_1:basic INFO 1.4889748404480423: Received message <Hello:> from Peer_11:bootstrap\n",
      "Peer_1:basic WARNING 500: Not enough peers, fetching more (1, 4)\n",
      "Peer_1:basic INFO 500: Sending message <RequestPeers:> to Peer_11:bootstrap\n",
      "Peer_1:basic INFO 503.3859778353664: Received message <RequestPeers:> from Peer_11:bootstrap\n",
      "Peer_1:basic INFO 503.3859778353664: Sending message <PeerList> to Peer_11:bootstrap\n",
      "Peer_1:basic INFO 504.2042078720946: Received message <PeerList> from Peer_11:bootstrap\n",
      "Peer_1:basic WARNING 1000: Not enough peers, fetching more (1, 4)\n",
      "Peer_1:basic INFO 1000: Sending message <RequestPeers:> to Peer_11:bootstrap\n",
      "Peer_1:basic INFO 1000.7817287744639: Received message <Hello:> from Peer_4:basic\n",
      "Peer_1:basic INFO 1000.7817287744639: Connecting to Peer_4:basic\n",
      "Peer_1:basic INFO 1000.7817287744639: Sending message <Hello:> to Peer_4:basic\n",
      "Peer_1:basic INFO 1000.7817287744639: Sending message <RequestPeers:> to Peer_4:basic\n",
      "Peer_1:basic INFO 1001.4377101262706: Connecting to Peer_7:basic\n",
      "Peer_1:basic INFO 1002.0334506140134: Received message <PeerList> from Peer_11:bootstrap\n",
      "Peer_1:basic INFO 1002.3791600950157: Received message <RequestPeers:> from Peer_7:basic\n",
      "Peer_1:basic INFO 1002.3791600950157: Sending message <PeerList> to Peer_7:basic\n",
      "Peer_1:basic INFO 1002.4855737402495: Received message <PeerList> from Peer_4:basic\n",
      "Peer_1:basic INFO 1002.8359882042126: Received message <Hello:> from Peer_7:basic\n",
      "Peer_1:basic WARNING 1500: Not enough peers, fetching more (3, 4)\n",
      "Peer_1:basic INFO 1500: Sending message <RequestPeers:> to Peer_4:basic\n",
      "Peer_1:basic INFO 1500: Sending message <RequestPeers:> to Peer_7:basic\n",
      "Peer_1:basic INFO 1500: Sending message <RequestPeers:> to Peer_11:bootstrap\n",
      "Peer_1:basic INFO 1501.1235418790384: Received message <PeerList> from Peer_7:basic\n",
      "Peer_1:basic INFO 1501.2547193987666: Received message <PeerList> from Peer_4:basic\n",
      "Peer_1:basic INFO 1502.1467201481032: Received message <PeerList> from Peer_11:bootstrap\n",
      "Peer_1:basic WARNING 2000: Not enough peers, fetching more (3, 4)\n",
      "Peer_1:basic INFO 2000.52832048204: Received message <RequestPeers:> from Peer_11:bootstrap\n",
      "Peer_1:basic INFO 2000.52832048204: Sending message <PeerList> to Peer_11:bootstrap\n",
      "Peer_1:basic INFO 2001.060298463059: Connecting to Peer_2:basic\n",
      "Peer_1:basic INFO 2002.0545639052907: Received message <Hello:> from Peer_2:basic\n",
      "Peer_1:basic INFO 2003.0831939027087: Received message <RequestPeers:> from Peer_2:basic\n",
      "Peer_1:basic INFO 2003.0831939027087: Sending message <PeerList> to Peer_2:basic\n",
      "Peer_1:basic INFO 2006.3191304590703: Received message <Hello:> from Peer_8:basic\n",
      "Peer_1:basic INFO 2006.3191304590703: Connecting to Peer_8:basic\n",
      "Peer_1:basic INFO 2006.3191304590703: Sending message <Hello:> to Peer_8:basic\n",
      "Peer_1:basic INFO 2006.3191304590703: Sending message <RequestPeers:> to Peer_8:basic\n",
      "Peer_1:basic INFO 2019.4191911901448: Received message <PeerList> from Peer_8:basic\n",
      "Peer_1:basic INFO 2500: Sending message <Ping:> to Peer_4:basic\n",
      "Peer_1:basic INFO 2500: Sending message <Ping:> to Peer_7:basic\n",
      "Peer_1:basic INFO 2500.6612441559732: Received message <RequestPeers:> from Peer_11:bootstrap\n",
      "Peer_1:basic INFO 2500.6612441559732: Sending message <PeerList> to Peer_11:bootstrap\n",
      "Peer_1:basic INFO 2500.759626246886: Received message <Ping:> from Peer_7:basic\n",
      "Peer_1:basic INFO 2500.759626246886: Sending message <Pong:> to Peer_7:basic\n",
      "Peer_1:basic INFO 2500.9945550819607: Received message <Ping:> from Peer_4:basic\n",
      "Peer_1:basic INFO 2500.9945550819607: Sending message <Pong:> to Peer_4:basic\n",
      "Peer_1:basic INFO 2502.5750194020156: Received message <Pong:> from Peer_4:basic\n",
      "Peer_1:basic INFO 2505.0225708439843: Received message <Pong:> from Peer_7:basic\n",
      "Peer_1:basic INFO 3000: Sending message <Ping:> to Peer_2:basic\n",
      "Peer_1:basic INFO 3000: Sending message <Ping:> to Peer_8:basic\n",
      "Peer_1:basic INFO 3000.5566519735116: Received message <RequestPeers:> from Peer_11:bootstrap\n",
      "Peer_1:basic INFO 3000.5566519735116: Sending message <PeerList> to Peer_11:bootstrap\n",
      "Peer_1:basic INFO 3000.592852435285: Received message <Ping:> from Peer_2:basic\n",
      "Peer_1:basic INFO 3000.592852435285: Sending message <Pong:> to Peer_2:basic\n",
      "Peer_1:basic INFO 3001.5172224942808: Received message <Pong:> from Peer_2:basic\n",
      "Peer_1:basic INFO 3006.6671169844167: Received message <Ping:> from Peer_8:basic\n",
      "Peer_1:basic INFO 3006.6671169844167: Sending message <Pong:> to Peer_8:basic\n",
      "Peer_1:basic INFO 3014.2868119665773: Received message <Pong:> from Peer_8:basic\n",
      "Peer_1:basic INFO 3500: Sending message <Ping:> to Peer_4:basic\n",
      "Peer_1:basic INFO 3500: Sending message <Ping:> to Peer_7:basic\n",
      "Peer_1:basic INFO 3500.5860379062055: Received message <Ping:> from Peer_7:basic\n",
      "Peer_1:basic INFO 3500.5860379062055: Sending message <Pong:> to Peer_7:basic\n",
      "Peer_1:basic INFO 3500.6092260499327: Received message <Ping:> from Peer_4:basic\n",
      "Peer_1:basic INFO 3500.6092260499327: Sending message <Pong:> to Peer_4:basic\n",
      "Peer_1:basic INFO 3501.4198724311073: Received message <Pong:> from Peer_4:basic\n",
      "Peer_1:basic INFO 3501.481772256408: Received message <Pong:> from Peer_7:basic\n",
      "Peer_1:basic INFO 4000: Sending message <Ping:> to Peer_11:bootstrap\n",
      "Peer_1:basic INFO 4000: Sending message <Ping:> to Peer_2:basic\n",
      "Peer_1:basic INFO 4000: Sending message <Ping:> to Peer_8:basic\n",
      "Peer_1:basic INFO 4000.7364128847976: Received message <Ping:> from Peer_2:basic\n",
      "Peer_1:basic INFO 4000.7364128847976: Sending message <Pong:> to Peer_2:basic\n",
      "Peer_1:basic INFO 4000.829043196058: Received message <RequestPeers:> from Peer_11:bootstrap\n",
      "Peer_1:basic INFO 4000.829043196058: Sending message <PeerList> to Peer_11:bootstrap\n",
      "Peer_1:basic INFO 4001.011093249606: Received message <Ping:> from Peer_11:bootstrap\n",
      "Peer_1:basic INFO 4001.011093249606: Sending message <Pong:> to Peer_11:bootstrap\n",
      "Peer_1:basic INFO 4001.6604473775865: Received message <Pong:> from Peer_2:basic\n",
      "Peer_1:basic INFO 4002.563246814884: Received message <Pong:> from Peer_11:bootstrap\n",
      "Peer_1:basic INFO 4005.5055037603165: Received message <Ping:> from Peer_8:basic\n",
      "Peer_1:basic INFO 4005.5055037603165: Sending message <Pong:> to Peer_8:basic\n",
      "Peer_1:basic INFO 4015.06010121315: Received message <Pong:> from Peer_8:basic\n",
      "Peer_1:basic INFO 4500: Sending message <Ping:> to Peer_4:basic\n",
      "Peer_1:basic INFO 4500: Sending message <Ping:> to Peer_7:basic\n",
      "Peer_1:basic INFO 4500.953054798472: Received message <Ping:> from Peer_4:basic\n",
      "Peer_1:basic INFO 4500.953054798472: Sending message <Pong:> to Peer_4:basic\n",
      "Peer_1:basic INFO 4501.320818416345: Received message <Ping:> from Peer_7:basic\n",
      "Peer_1:basic INFO 4501.320818416345: Sending message <Pong:> to Peer_7:basic\n",
      "Peer_1:basic INFO 4501.8629462319595: Received message <Pong:> from Peer_4:basic\n",
      "Peer_1:basic INFO 4502.524622504936: Received message <Pong:> from Peer_7:basic\n",
      "\n"
     ]
    }
   ],
   "source": [
    "with open('logs2/Peer_1:basic.log') as s:\n",
    "    print(s.read())"
   ]
  },
  {
   "cell_type": "markdown",
   "metadata": {},
   "source": [
    "------------------\n",
    "\n",
    "Now you get how to work a simulation, in the next notebook we will take a look into services and implement our own.  \n"
   ]
  },
  {
   "cell_type": "markdown",
   "metadata": {},
   "source": [
    "## Your experiments here \n",
    "\n",
    "\n",
    "1. Change the latency between the locations and look at the logs.  \n",
    "2. Change the rules for the discovery\n",
    "\n"
   ]
  },
  {
   "cell_type": "code",
   "execution_count": 17,
   "metadata": {},
   "outputs": [],
   "source": [
    "## Initialize locations and latencies. We assume that the mean and std of latency increase by steady factors\n",
    "## as the distance between locations increases based on their index and we assume normal distributions\n",
    "\n",
    "num_locations = 2\n",
    "min_latency = 2\n",
    "min_std = 0.3\n",
    "latency_factor = 6\n",
    "std_factor = 0.5\n",
    "\n",
    "from p2psimpy.config import *\n",
    "from string import ascii_uppercase\n",
    "from collections import defaultdict\n",
    "\n",
    "\n",
    "class Locations(Config):\n",
    "    \n",
    "    locations = ['Loc'+i for i in ascii_uppercase[:num_locations]]\n",
    "    latencies = defaultdict(dict)\n",
    "\n",
    "    for i in range(num_locations):\n",
    "        for j in range(i,num_locations):\n",
    "            latencies[locations[i]][locations[j]] = Dist('norm',(abs(i-j)*latency_factor+min_latency,abs(i-j)*std_factor+min_std))\n",
    "    \n",
    "    latencies = dict(latencies)"
   ]
  },
  {
   "cell_type": "code",
   "execution_count": 18,
   "metadata": {},
   "outputs": [
    {
     "data": {
      "image/png": "[encoded data removed]",
      "text/plain": [
       "<Figure size 576x576 with 4 Axes>"
      ]
     },
     "metadata": {},
     "output_type": "display_data"
    }
   ],
   "source": [
    "\n",
    "import matplotlib.pyplot as plt\n",
    "import pandas as pd\n",
    "import seaborn as sns\n",
    "sns.set(style='darkgrid')\n",
    "\n",
    "# 1. Data prepare\n",
    "def prepare(x):\n",
    "    x = pd.DataFrame(x)\n",
    "    x[pd.isnull(x)] = x.T[pd.isnull(x)]\n",
    "    return x.stack().reset_index()\\\n",
    "                    .rename(columns={'level_0':'from', 'level_1':'to', 0: 'value'})\n",
    "                    \n",
    "# 2. Get 100 samples\n",
    "df = pd.concat(prepare(Locations.get()['latencies']) for _ in range(100))\n",
    "\n",
    "# 3. Visualize in a grid of histograms\n",
    "g = sns.FacetGrid(df, col='to', row='from', height=4, aspect=1)\n",
    "g = g.map(sns.distplot, 'value')"
   ]
  },
  {
   "cell_type": "markdown",
   "metadata": {},
   "source": [
    "# Random given topology"
   ]
  },
  {
   "cell_type": "code",
   "execution_count": 19,
   "metadata": {},
   "outputs": [],
   "source": [
    "from p2psimpy.config import *\n",
    "from p2psimpy.consts import *\n",
    "import networkx as nx\n",
    "\n",
    "# Number of nodes\n",
    "N = 10\n",
    "    \n",
    "# Generate network topology \n",
    "G = nx.erdos_renyi_graph(N, 0.5)\n",
    "# Assign a peer type to the peers \n",
    "nx.set_node_attributes(G, {k: 'basic' for k in G.nodes()}, 'type')"
   ]
  },
  {
   "cell_type": "code",
   "execution_count": 20,
   "metadata": {},
   "outputs": [],
   "source": [
    "class PeerConfig(Config):\n",
    "    location = Dist('sample', Locations.locations)\n",
    "    bandwidth_ul = Dist( 'norm', (50*MBit, 10*MBit))\n",
    "    bandwidth_dl = Dist( 'norm', (50*MBit, 10*MBit))\n",
    "\n",
    "# Let's add ConnectionManager - that will periodically ping neighbours and check if they are online \n",
    "from p2psimpy.services.connection_manager import BaseConnectionManager\n",
    "# For each service you can define own configuration, or use default values.   \n",
    "# Lets use base connection manager - that will periodically ping peer and disconnect unresponsive peers.\n",
    "\n",
    "services = (BaseConnectionManager,)\n",
    "peer_types = {'basic': PeerType(PeerConfig, services)}"
   ]
  },
  {
   "cell_type": "code",
   "execution_count": 21,
   "metadata": {},
   "outputs": [
    {
     "data": {
      "image/png": "[encoded data removed]",
      "text/plain": [
       "<Figure size 432x288 with 1 Axes>"
      ]
     },
     "metadata": {},
     "output_type": "display_data"
    }
   ],
   "source": [
    "# Display the topology \n",
    "nx.draw_networkx(G)"
   ]
  },
  {
   "cell_type": "code",
   "execution_count": 22,
   "metadata": {},
   "outputs": [],
   "source": [
    "from p2psimpy.simulation import BaseSimulation\n",
    "\n",
    "# Create BaseSimulation with enabled logger and save in the logs directory. \n",
    "sim = BaseSimulation(Locations, G, peer_types, enable_logger=True, logger_dir='logs')\n",
    "\n",
    "# Let's run the simulation for 5 seconds\n",
    "sim.run(5_000)"
   ]
  },
  {
   "cell_type": "code",
   "execution_count": 23,
   "metadata": {},
   "outputs": [
    {
     "name": "stdout",
     "output_type": "stream",
     "text": [
      "Peer_1:basic INFO 0.8312654830262182: Received message <Hello:> from Peer_4:basic\n",
      "Peer_1:basic INFO 0.8312654830262182: Connecting to Peer_4:basic\n",
      "Peer_1:basic INFO 0.8312654830262182: Sending message <Hello:> to Peer_4:basic\n",
      "Peer_1:basic INFO 1.0140679531923575: Connecting to Peer_9:basic\n",
      "Peer_1:basic INFO 1.022639109751643: Received message <Hello:> from Peer_9:basic\n",
      "Peer_1:basic INFO 2.3371019281326424: Received message <Hello:> from Peer_9:basic\n",
      "Peer_1:basic INFO 1000: Sending message <Ping:> to Peer_4:basic\n",
      "Peer_1:basic INFO 1000: Sending message <Ping:> to Peer_9:basic\n",
      "Peer_1:basic INFO 1000.7591971731949: Received message <Ping:> from Peer_9:basic\n",
      "Peer_1:basic INFO 1000.7591971731949: Sending message <Pong:> to Peer_9:basic\n",
      "Peer_1:basic INFO 1000.8155243604094: Received message <Ping:> from Peer_4:basic\n",
      "Peer_1:basic INFO 1000.8155243604094: Sending message <Pong:> to Peer_4:basic\n",
      "Peer_1:basic INFO 1001.932508660506: Received message <Pong:> from Peer_4:basic\n",
      "Peer_1:basic INFO 1002.1303322665448: Received message <Pong:> from Peer_9:basic\n",
      "Peer_1:basic INFO 2000: Sending message <Ping:> to Peer_4:basic\n",
      "Peer_1:basic INFO 2000: Sending message <Ping:> to Peer_9:basic\n",
      "Peer_1:basic INFO 2001.1091239855937: Received message <Ping:> from Peer_4:basic\n",
      "Peer_1:basic INFO 2001.1091239855937: Sending message <Pong:> to Peer_4:basic\n",
      "Peer_1:basic INFO 2001.220977032135: Received message <Ping:> from Peer_9:basic\n",
      "Peer_1:basic INFO 2001.220977032135: Sending message <Pong:> to Peer_9:basic\n",
      "Peer_1:basic INFO 2001.665054620223: Received message <Pong:> from Peer_4:basic\n",
      "Peer_1:basic INFO 2002.389538764172: Received message <Pong:> from Peer_9:basic\n",
      "Peer_1:basic INFO 3000: Sending message <Ping:> to Peer_4:basic\n",
      "Peer_1:basic INFO 3000: Sending message <Ping:> to Peer_9:basic\n",
      "Peer_1:basic INFO 3000.809063936647: Received message <Ping:> from Peer_4:basic\n",
      "Peer_1:basic INFO 3000.809063936647: Sending message <Pong:> to Peer_4:basic\n",
      "Peer_1:basic INFO 3000.995960173694: Received message <Ping:> from Peer_9:basic\n",
      "Peer_1:basic INFO 3000.995960173694: Sending message <Pong:> to Peer_9:basic\n",
      "Peer_1:basic INFO 3001.7531681137502: Received message <Pong:> from Peer_9:basic\n",
      "Peer_1:basic INFO 3002.2323355217923: Received message <Pong:> from Peer_4:basic\n",
      "Peer_1:basic INFO 4000: Sending message <Ping:> to Peer_4:basic\n",
      "Peer_1:basic INFO 4000: Sending message <Ping:> to Peer_9:basic\n",
      "Peer_1:basic INFO 4001.061431155592: Received message <Ping:> from Peer_4:basic\n",
      "Peer_1:basic INFO 4001.061431155592: Sending message <Pong:> to Peer_4:basic\n",
      "Peer_1:basic INFO 4001.1795719385473: Received message <Ping:> from Peer_9:basic\n",
      "Peer_1:basic INFO 4001.1795719385473: Sending message <Pong:> to Peer_9:basic\n",
      "Peer_1:basic INFO 4001.860158514005: Received message <Pong:> from Peer_9:basic\n",
      "Peer_1:basic INFO 4002.060399768072: Received message <Pong:> from Peer_4:basic\n",
      "\n"
     ]
    }
   ],
   "source": [
    "with open('logs/Peer_1:basic.log') as s:\n",
    "    print(s.read())"
   ]
  },
  {
   "cell_type": "code",
   "execution_count": 24,
   "metadata": {},
   "outputs": [
    {
     "name": "stdout",
     "output_type": "stream",
     "text": [
      "4 LocA\n",
      "9 LocA\n"
     ]
    }
   ],
   "source": [
    "for n in G.neighbors(1):\n",
    "    print(n,sim.peers[n].location)"
   ]
  },
  {
   "cell_type": "markdown",
   "metadata": {},
   "source": [
    "# Conclusions\n",
    "\n",
    "We print the logs and the neighbors of the Peer under consideration (1) and we see that the delays between e.g. sending a Ping and receiving a Pong message agree in general with the mean delay between the locations of Peer 1 and the corresponding locations of its neighbors as we have intialized them. The difference is more obvious when the Peer 1 has a different location than some of its neighbors."
   ]
  },
  {
   "cell_type": "markdown",
   "metadata": {},
   "source": [
    "# Emergent topology"
   ]
  },
  {
   "cell_type": "code",
   "execution_count": 25,
   "metadata": {},
   "outputs": [],
   "source": [
    "from p2psimpy.services.connection_manager import P2PConnectionManager\n",
    "\n",
    "num_peers = 10\n",
    "\n",
    "topology_specs = {i:{'type': 'basic'} for i in range(1, num_peers+1)}\n",
    "\n",
    "class ConnectionConfig(Config):\n",
    "    min_peers = 1\n",
    "    max_peers = 125\n",
    "\n",
    "peer_types = {'basic': PeerType(PeerConfig, {P2PConnectionManager: ConnectionConfig})}\n",
    "\n",
    "\n",
    "sim = BaseSimulation(Locations, topology_specs, peer_types, logger_dir='logs2')\n",
    "\n",
    "# Let's run the simulation for 5 seconds\n",
    "sim.run(5_000)"
   ]
  },
  {
   "cell_type": "markdown",
   "metadata": {},
   "source": [
    "# Justification\n",
    "\n",
    "Although being susceptible to malicious or failing nodes, the theoretical bare minimum required number of peers is 1, where the ledger can be downloaded from and transactions propagated to with the hope they reach the rest of the network through gossip. In this case Peer 1 is connecting only to the bootstrap peer (11).\n",
    "From the Bitcoin protocol the maximum number of connections seems to be 125, so if we assume 1 connection per peer, we have a maximum of 125 peers allowed (for simplicity we do not take into consideration the distrinction between incoming/outgoing connections and thus peers)."
   ]
  },
  {
   "cell_type": "code",
   "execution_count": 26,
   "metadata": {},
   "outputs": [
    {
     "name": "stdout",
     "output_type": "stream",
     "text": [
      "Peer_1:basic WARNING 0: Not enough peers, fetching more (0, 1)\n",
      "Peer_1:basic INFO 0.7457176815559798: Connecting to Peer_11:bootstrap\n",
      "Peer_1:basic INFO 1.5433111390151437: Received message <RequestPeers:> from Peer_11:bootstrap\n",
      "Peer_1:basic INFO 1.5433111390151437: Sending message <PeerList> to Peer_11:bootstrap\n",
      "Peer_1:basic INFO 1.8255025580495208: Received message <Hello:> from Peer_11:bootstrap\n",
      "Peer_1:basic INFO 500.991242964821: Received message <RequestPeers:> from Peer_11:bootstrap\n",
      "Peer_1:basic INFO 500.991242964821: Sending message <PeerList> to Peer_11:bootstrap\n",
      "Peer_1:basic INFO 1000.973814289483: Received message <RequestPeers:> from Peer_11:bootstrap\n",
      "Peer_1:basic INFO 1000.973814289483: Sending message <PeerList> to Peer_11:bootstrap\n",
      "Peer_1:basic INFO 2000: Sending message <Ping:> to Peer_11:bootstrap\n",
      "Peer_1:basic INFO 2001.1322344850028: Received message <Ping:> from Peer_11:bootstrap\n",
      "Peer_1:basic INFO 2001.1322344850028: Sending message <Pong:> to Peer_11:bootstrap\n",
      "Peer_1:basic INFO 2002.035897925719: Received message <Pong:> from Peer_11:bootstrap\n",
      "Peer_1:basic INFO 3000: Sending message <Ping:> to Peer_11:bootstrap\n",
      "Peer_1:basic INFO 3000.818542017921: Received message <RequestPeers:> from Peer_11:bootstrap\n",
      "Peer_1:basic INFO 3000.818542017921: Sending message <PeerList> to Peer_11:bootstrap\n",
      "Peer_1:basic INFO 3000.923525058545: Received message <Ping:> from Peer_11:bootstrap\n",
      "Peer_1:basic INFO 3000.923525058545: Sending message <Pong:> to Peer_11:bootstrap\n",
      "Peer_1:basic INFO 3002.0337038450425: Received message <Pong:> from Peer_11:bootstrap\n",
      "Peer_1:basic INFO 3500.78775972857: Received message <RequestPeers:> from Peer_11:bootstrap\n",
      "Peer_1:basic INFO 3500.78775972857: Sending message <PeerList> to Peer_11:bootstrap\n",
      "Peer_1:basic INFO 4001.0282065450956: Received message <RequestPeers:> from Peer_11:bootstrap\n",
      "Peer_1:basic INFO 4001.0282065450956: Sending message <PeerList> to Peer_11:bootstrap\n",
      "\n"
     ]
    }
   ],
   "source": [
    "with open('logs2/Peer_1:basic.log') as s:\n",
    "    print(s.read())"
   ]
  },
  {
   "cell_type": "code",
   "execution_count": 27,
   "metadata": {},
   "outputs": [
    {
     "data": {
      "image/png": "[encoded data removed]",
      "text/plain": [
       "<Figure size 432x288 with 1 Axes>"
      ]
     },
     "metadata": {},
     "output_type": "display_data"
    }
   ],
   "source": [
    "G1 = sim.get_graph()\n",
    "nx.draw_networkx(G1)"
   ]
  },
  {
   "cell_type": "code",
   "execution_count": 28,
   "metadata": {},
   "outputs": [
    {
     "name": "stdout",
     "output_type": "stream",
     "text": [
      "1 LocA\n"
     ]
    }
   ],
   "source": [
    "print(1,sim.peers[1].location)\n",
    "for n in G1.neighbors(1):\n",
    "    print(n,sim.peers[n].location)"
   ]
  },
  {
   "cell_type": "code",
   "execution_count": null,
   "metadata": {},
   "outputs": [],
   "source": []
  }
 ],
 "metadata": {
  "hide_input": false,
  "kernelspec": {
   "display_name": "Python 3",
   "language": "python",
   "name": "python3"
  },
  "language_info": {
   "codemirror_mode": {
    "name": "ipython",
    "version": 3
   },
   "file_extension": ".py",
   "mimetype": "text/x-python",
   "name": "python",
   "nbconvert_exporter": "python",
   "pygments_lexer": "ipython3",
   "version": "3.8.0"
  },
  "pycharm": {
   "stem_cell": {
    "cell_type": "raw",
    "metadata": {
     "collapsed": false
    },
    "source": []
   }
  },
  "toc": {
   "base_numbering": 1,
   "nav_menu": {},
   "number_sections": true,
   "sideBar": true,
   "skip_h1_title": false,
   "title_cell": "Table of Contents",
   "title_sidebar": "Contents",
   "toc_cell": false,
   "toc_position": {
    "height": "524px",
    "left": "441px",
    "top": "355px",
    "width": "256px"
   },
   "toc_section_display": true,
   "toc_window_display": false
  },
  "varInspector": {
   "cols": {
    "lenName": 16,
    "lenType": 16,
    "lenVar": 40
   },
   "kernels_config": {
    "python": {
     "delete_cmd_postfix": "",
     "delete_cmd_prefix": "del ",
     "library": "var_list.py",
     "varRefreshCmd": "print(var_dic_list())"
    },
    "r": {
     "delete_cmd_postfix": ") ",
     "delete_cmd_prefix": "rm(",
     "library": "var_list.r",
     "varRefreshCmd": "cat(var_dic_list()) "
    }
   },
   "types_to_exclude": [
    "module",
    "function",
    "builtin_function_or_method",
    "instance",
    "_Feature"
   ],
   "window_display": false
  }
 },
 "nbformat": 4,
 "nbformat_minor": 4
}
